{
 "cells": [
  {
   "cell_type": "markdown",
   "id": "6194dd7b-3f57-4d8b-b72a-e2156f08f6fb",
   "metadata": {},
   "source": [
    "# Data Science Tools and Ecosystem"
   ]
  },
  {
   "cell_type": "markdown",
   "id": "30f116db-97c4-4368-a8d3-d5da2b9c8af9",
   "metadata": {},
   "source": [
    "In this notebook, Data Science Tools and Ecosystem are summarized."
   ]
  },
  {
   "cell_type": "markdown",
   "id": "5e00fb6a-a579-411e-9e9d-e66e69bf8925",
   "metadata": {},
   "source": [
    "**Objectives:**\n",
    "\n",
    "* List popular languages for Data Science\n",
    "* List common libraries for  Data Science\n",
    "* Table creation\n",
    "* Arithmetic expressions evaluation\n",
    "* Minutes to hours conversion"
   ]
  },
  {
   "cell_type": "markdown",
   "id": "de594691-8275-44eb-96a2-1931250d5da4",
   "metadata": {},
   "source": [
    "Some of the popular languages that Data Scientists use are:\n",
    "\n",
    "1. Python\n",
    "2. R\n",
    "3. SQL\n",
    "4. Julia"
   ]
  },
  {
   "cell_type": "markdown",
   "id": "b82e5f80-c968-4209-8830-a08247198a25",
   "metadata": {},
   "source": [
    "Some of the commonly used libraries used by Data Scientists include\n",
    "\n",
    "1. Pandas\n",
    "2. Numpy\n",
    "3. ggplot2\n",
    "4. sckit-learn\n"
   ]
  },
  {
   "cell_type": "markdown",
   "id": "4d2dc829-afad-4833-ab3b-ef2fa97d47fb",
   "metadata": {},
   "source": [
    "| Data Science Tools |\n",
    "|--------------------|\n",
    "| RStudio            |\n",
    "| Apache Spark       |\n",
    "| Apache Hadoop      |"
   ]
  },
  {
   "cell_type": "markdown",
   "id": "b32f7b19-4027-4797-b089-4654f6577293",
   "metadata": {},
   "source": [
    "### Below are a few examples of evaluating arithmetic expressions in Python"
   ]
  },
  {
   "cell_type": "code",
   "execution_count": 1,
   "id": "62707d9b-8141-4fab-ae56-745002de517f",
   "metadata": {
    "tags": []
   },
   "outputs": [
    {
     "data": {
      "text/plain": [
       "17"
      ]
     },
     "execution_count": 1,
     "metadata": {},
     "output_type": "execute_result"
    }
   ],
   "source": [
    "# This a simple arithmetic expression to mutiply then add integers\n",
    "(3*4)+5"
   ]
  },
  {
   "cell_type": "code",
   "execution_count": 4,
   "id": "54f6ba3f-27ab-4246-b205-68e952bc8fdc",
   "metadata": {
    "tags": []
   },
   "outputs": [
    {
     "data": {
      "text/plain": [
       "3"
      ]
     },
     "execution_count": 4,
     "metadata": {},
     "output_type": "execute_result"
    }
   ],
   "source": [
    "# This will convert 200 minutes to hours by diving by 60.\n",
    "200 // 60"
   ]
  },
  {
   "cell_type": "markdown",
   "id": "bf9d5866-3961-446a-95bd-a522865ec6c8",
   "metadata": {},
   "source": [
    "## Author\n",
    "\n",
    "Adama Boubacar Oumarou"
   ]
  },
  {
   "cell_type": "code",
   "execution_count": null,
   "id": "347ee0c2-d816-4920-b79b-c02dfa542092",
   "metadata": {},
   "outputs": [],
   "source": []
  }
 ],
 "metadata": {
  "kernelspec": {
   "display_name": "Python",
   "language": "python",
   "name": "conda-env-python-py"
  },
  "language_info": {
   "codemirror_mode": {
    "name": "ipython",
    "version": 3
   },
   "file_extension": ".py",
   "mimetype": "text/x-python",
   "name": "python",
   "nbconvert_exporter": "python",
   "pygments_lexer": "ipython3",
   "version": "3.7.12"
  }
 },
 "nbformat": 4,
 "nbformat_minor": 5
}
